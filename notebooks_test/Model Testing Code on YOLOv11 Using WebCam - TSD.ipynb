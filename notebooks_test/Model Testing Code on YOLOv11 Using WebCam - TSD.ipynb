{
 "cells": [
  {
   "cell_type": "code",
   "execution_count": 1,
   "id": "e3085ad2-e0ad-4c6d-bbf9-8b876e4a6869",
   "metadata": {
    "tags": []
   },
   "outputs": [
    {
     "name": "stdout",
     "output_type": "stream",
     "text": [
      "Ultralytics 8.3.96  Python-3.11.7 torch-2.6.0+cpu CPU (Intel Core(TM) i5-10300H 2.50GHz)\n",
      "Setup complete  (8 CPUs, 23.8 GB RAM, 219.3/244.2 GB disk)\n"
     ]
    }
   ],
   "source": [
    "import ultralytics\n",
    "from ultralytics import YOLO\n",
    "import cv2\n",
    "import pyttsx3\n",
    "\n",
    "ultralytics.checks()"
   ]
  },
  {
   "cell_type": "code",
   "execution_count": null,
   "id": "b2fdb837-edd7-4d02-b3a6-28fcd04d4439",
   "metadata": {},
   "outputs": [],
   "source": [
    "import cv2\n",
    "import pyttsx3\n",
    "from ultralytics import YOLO\n",
    "\n",
    "# Load your YOLOv11 model\n",
    "model = YOLO(r\"C:\\Users\\ODAI\\Downloads\\TSD.pt\")\n",
    "\n",
    "# Open your laptop's webcam (usually index 0)\n",
    "camera = cv2.VideoCapture(1)\n",
    "camera.set(cv2.CAP_PROP_FRAME_WIDTH, 640)\n",
    "camera.set(cv2.CAP_PROP_FRAME_HEIGHT, 480)\n",
    "\n",
    "# Initialize the TTS engine once\n",
    "engine = pyttsx3.init()\n",
    "spoken_classes = set()  # Track what we've already announced recently\n",
    "\n",
    "while True:\n",
    "    ret, frame = camera.read()\n",
    "    if not ret:\n",
    "        continue\n",
    "\n",
    "    # Perform detection on the current frame\n",
    "    results = model(source=frame, conf=0.4, verbose=False)\n",
    "\n",
    "    for result in results:\n",
    "        boxes = result.boxes.cpu().numpy()\n",
    "        for box in boxes:\n",
    "            class_id = int(box.cls[0])\n",
    "            class_name = result.names[class_id]\n",
    "\n",
    "            # Draw bounding box and label\n",
    "            x1, y1, x2, y2 = map(int, box.xyxy[0])\n",
    "            cv2.rectangle(frame, (x1, y1), (x2, y2), (0, 255, 0), 2)\n",
    "            cv2.putText(frame, class_name, (x1, y1 - 10),\n",
    "                        cv2.FONT_HERSHEY_SIMPLEX, 0.6, (0, 255, 0), 2)\n",
    "\n",
    "            # Speak only once per class per frame\n",
    "            if class_name not in spoken_classes:\n",
    "                if class_name == 'Red Light':\n",
    "                    engine.say(\"Red light detected\")\n",
    "                elif class_name == 'Speed Limit 100':\n",
    "                    engine.say(\"Speed limit 100 ahead\")\n",
    "                elif class_name == 'Stop':\n",
    "                    engine.say(\"Attention: Stop sign ahead\")\n",
    "                else:\n",
    "                    engine.say(class_name)\n",
    "                engine.runAndWait()\n",
    "                spoken_classes.add(class_name)\n",
    "\n",
    "    # Reset spoken classes after each frame\n",
    "    spoken_classes.clear()\n",
    "\n",
    "    # Display the frame\n",
    "    cv2.imshow(\"YOLOv11 Real-Time Detection with TTS\", frame)\n",
    "\n",
    "    # Exit if 'q' is pressed\n",
    "    if cv2.waitKey(1) & 0xFF == ord(\"q\"):\n",
    "        break\n",
    "\n",
    "# Clean up\n",
    "camera.release()\n",
    "cv2.destroyAllWindows()"
   ]
  },
  {
   "cell_type": "code",
   "execution_count": null,
   "id": "c215c334-f0a2-436e-8cd9-3b7451183545",
   "metadata": {},
   "outputs": [],
   "source": [
    "from ultralytics.models.yolo.detect.predict import DetectionPredictor\n",
    "\n",
    "Data = r\"C:\\Users\\ODAI\\Downloads\\TSD.pt\"\n",
    "#Testing the DMS model\n",
    "model = YOLO(Data)\n",
    "\n",
    "results = model.predict(source='1', show=True)\n",
    "print(results)"
   ]
  }
 ],
 "metadata": {
  "kernelspec": {
   "display_name": "Python 3 (ipykernel)",
   "language": "python",
   "name": "python3"
  },
  "language_info": {
   "codemirror_mode": {
    "name": "ipython",
    "version": 3
   },
   "file_extension": ".py",
   "mimetype": "text/x-python",
   "name": "python",
   "nbconvert_exporter": "python",
   "pygments_lexer": "ipython3",
   "version": "3.11.7"
  }
 },
 "nbformat": 4,
 "nbformat_minor": 5
}
